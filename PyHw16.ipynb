{
 "cells": [
  {
   "cell_type": "code",
   "execution_count": 10,
   "metadata": {
    "scrolled": true
   },
   "outputs": [
    {
     "name": "stdout",
     "output_type": "stream",
     "text": [
      "oops!\n",
      "oops!\n",
      "oops!\n"
     ]
    }
   ],
   "source": [
    "x=1\n",
    "y=4\n",
    "while x<y:\n",
    "    print ('oops!')\n",
    "    x=x+1"
   ]
  },
  {
   "cell_type": "code",
   "execution_count": 28,
   "metadata": {},
   "outputs": [],
   "source": [
    "def password_thing(password, password_guess):\n",
    "    count=1\n",
    "    password=input('set your password: ')\n",
    "    password_guess=input('please enter your password:  ')\n",
    "    while password!=password_guess:\n",
    "        count=int(count)\n",
    "        print ('try again')\n",
    "        password_guess=input('input password:  ')\n",
    "        count=count+1\n",
    "    print ('correct')\n",
    "    return('it took you ', count, 'tries to get the password right')"
   ]
  },
  {
   "cell_type": "code",
   "execution_count": 29,
   "metadata": {},
   "outputs": [
    {
     "name": "stdout",
     "output_type": "stream",
     "text": [
      "set your password: 111\n",
      "please enter your password:  111\n",
      "correct\n"
     ]
    },
    {
     "data": {
      "text/plain": [
       "('it took you ', 1, 'tries to get the password right')"
      ]
     },
     "execution_count": 29,
     "metadata": {},
     "output_type": "execute_result"
    }
   ],
   "source": [
    "password_thing(111,123)"
   ]
  },
  {
   "cell_type": "markdown",
   "metadata": {},
   "source": []
  }
 ],
 "metadata": {
  "kernelspec": {
   "display_name": "Python 3",
   "language": "python",
   "name": "python3"
  },
  "language_info": {
   "codemirror_mode": {
    "name": "ipython",
    "version": 3
   },
   "file_extension": ".py",
   "mimetype": "text/x-python",
   "name": "python",
   "nbconvert_exporter": "python",
   "pygments_lexer": "ipython3",
   "version": "3.8.3"
  }
 },
 "nbformat": 4,
 "nbformat_minor": 4
}
